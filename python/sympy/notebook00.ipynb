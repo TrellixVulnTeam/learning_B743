{
 "cells": [
  {
   "cell_type": "markdown",
   "metadata": {},
   "source": [
    "# sympy tutorial\n",
    "\n",
    "reference\n",
    "1. [official site](https://www.sympy.org/en/index.html)\n",
    "2. [github](https://github.com/sympy/sympy)\n",
    "3. [get started](https://docs.sympy.org/latest/tutorial/index.html)"
   ]
  },
  {
   "cell_type": "code",
   "execution_count": 1,
   "metadata": {},
   "outputs": [],
   "source": [
    "import numpy as np"
   ]
  },
  {
   "cell_type": "code",
   "execution_count": 2,
   "metadata": {},
   "outputs": [],
   "source": [
    "import sympy\n",
    "from sympy import symbols, Rational, Matrix\n",
    "from sympy import sqrt, sin, cos, tan, sec, sinh, cosh, tanh\n",
    "from sympy import factor, expand, expand_trig, trigsimp, simplify, collect, cancel, apart\n",
    "from sympy import diff, Derivative\n",
    "from sympy import integrate, Integral\n",
    "from sympy import limit, Limit\n",
    "from sympy import series\n",
    "from sympy import init_printing, srepr, pprint, pretty, latex #printer\n",
    "from sympy import powsimp, expand_power_exp, expand_power_base, powdenest\n",
    "from sympy import exp, log, expand_log, logcombine\n",
    "from sympy import factorial, binomial, gamma, expand_func\n",
    "# sympy.pi sympy.Abs\n",
    "# forbidden: sympy.sympify sympy.lambdify"
   ]
  },
  {
   "cell_type": "code",
   "execution_count": 3,
   "metadata": {},
   "outputs": [],
   "source": [
    "init_printing()"
   ]
  },
  {
   "cell_type": "code",
   "execution_count": 4,
   "metadata": {},
   "outputs": [],
   "source": [
    "x,y,z,a,b = symbols('x y z a b')\n",
    "\n",
    "p1,p2,p3 = symbols('p1 p2 p3', positive=True) #default complex\n",
    "r1,r2,r3 = symbols('r1 r2 r3', real=True)\n",
    "i1,i2,i3 = symbols('i1 i2 i3', integer=True)\n",
    "c1,c2,c3 = symbols('c1 c2 c3')\n",
    "# local variable naming use \"tmp0/tmp1/tmp2/.../t0/t1/t2/...\""
   ]
  },
  {
   "cell_type": "markdown",
   "metadata": {},
   "source": [
    "# element"
   ]
  },
  {
   "cell_type": "code",
   "execution_count": 5,
   "metadata": {},
   "outputs": [
    {
     "data": {
      "image/png": "[encoded data removed]",
      "text/latex": [
       "$\\displaystyle x y + z$"
      ],
      "text/plain": [
       "x⋅y + z"
      ]
     },
     "execution_count": 5,
     "metadata": {},
     "output_type": "execute_result"
    }
   ],
   "source": [
    "x,y,z #sympy.core.symbol.Symbol\n",
    "sympy.pi #sympy.core.numbers.Pi\n",
    "Rational(1, 3) #sympy.core.numbers.Rational\n",
    "x*y + z #sympy.core.expr.Expr"
   ]
  },
  {
   "cell_type": "code",
   "execution_count": 6,
   "metadata": {},
   "outputs": [
    {
     "data": {
      "image/png": "[encoded data removed]",
      "text/latex": [
       "$\\displaystyle \\left[ \\left[ x, \\  x\\right], \\  \\left[ y, \\  y\\right]\\right]$"
      ],
      "text/plain": [
       "[[x, x], [y, y]]"
      ]
     },
     "execution_count": 6,
     "metadata": {},
     "output_type": "execute_result"
    }
   ],
   "source": [
    "Matrix([[1,2],[3,4]])\n",
    "Matrix([1,2,3])\n",
    "\n",
    "expr0 = Matrix([[x,x],[y,y]])\n",
    "expr0.shape\n",
    "expr0.tolist()"
   ]
  },
  {
   "cell_type": "code",
   "execution_count": 7,
   "metadata": {},
   "outputs": [
    {
     "data": {
      "text/latex": [
       "$\\displaystyle \\left[\\begin{matrix}\\rho_{00} & \\rho_{01} \\left(1 - 2 p_{z}\\right)\\\\\\rho_{10} \\left(1 - 2 p_{z}\\right) & \\rho_{11}\\end{matrix}\\right]$"
      ],
      "text/plain": [
       "⎡      ρ₀₀        ρ₀₁⋅(1 - 2⋅p_z)⎤\n",
       "⎢                                ⎥\n",
       "⎣ρ₁₀⋅(1 - 2⋅p_z)        ρ₁₁      ⎦"
      ]
     },
     "execution_count": 7,
     "metadata": {},
     "output_type": "execute_result"
    }
   ],
   "source": [
    "# quantum circuit, dephasing noise\n",
    "rho00,rho01,rho10,rho11 = symbols('rho00 rho01 rho10 rho11')\n",
    "tmp0 = Matrix([[rho00,rho01],[rho10,rho11]])\n",
    "px,py,pz = symbols('p_x p_y p_z', real=True, positive=True)\n",
    "Pauli0 = Matrix([[1,0],[0,1]])\n",
    "PauliX = Matrix([[0,1],[1,0]])\n",
    "PauliY = Matrix([[0,-1j],[1j,0]])\n",
    "PauliZ = Matrix([[1,0],[0,-1]])\n",
    "simplify((1-pz)*tmp0 + pz*PauliZ*tmp0*PauliZ)"
   ]
  },
  {
   "cell_type": "code",
   "execution_count": 8,
   "metadata": {},
   "outputs": [
    {
     "data": {
      "text/latex": [
       "$\\displaystyle \\left[\\begin{matrix}2 \\rho_{00} + 2.0 \\rho_{11} & 0\\\\0 & 2.0 \\rho_{00} + 2 \\rho_{11}\\end{matrix}\\right]$"
      ],
      "text/plain": [
       "⎡2⋅ρ₀₀ + 2.0⋅ρ₁₁         0       ⎤\n",
       "⎢                                ⎥\n",
       "⎣       0         2.0⋅ρ₀₀ + 2⋅ρ₁₁⎦"
      ]
     },
     "execution_count": 8,
     "metadata": {},
     "output_type": "execute_result"
    }
   ],
   "source": [
    "# quantum circuit, depolarizing noise\n",
    "rho00,rho01,rho10,rho11 = symbols('rho00 rho01 rho10 rho11')\n",
    "tmp0 = Matrix([[rho00,rho01],[rho10,rho11]])\n",
    "Pauli0 = Matrix([[1,0],[0,1]])\n",
    "PauliX = Matrix([[0,1],[1,0]])\n",
    "PauliY = Matrix([[0,-1j],[1j,0]])\n",
    "PauliZ = Matrix([[1,0],[0,-1]])\n",
    "Pauli0*tmp0*Pauli0 + PauliX*tmp0*PauliX + PauliY*tmp0*PauliY + PauliZ*tmp0*PauliZ"
   ]
  },
  {
   "cell_type": "code",
   "execution_count": 9,
   "metadata": {},
   "outputs": [
    {
     "data": {
      "text/latex": [
       "$\\displaystyle \\left[\\begin{matrix}\\epsilon \\rho_{11} + \\rho_{00} & \\rho_{01} \\sqrt{1 - \\epsilon}\\\\\\rho_{10} \\sqrt{1 - \\epsilon} & \\rho_{11} \\left(1 - \\epsilon\\right)\\end{matrix}\\right]$"
      ],
      "text/plain": [
       "⎡                     _______⎤\n",
       "⎢ ε⋅ρ₁₁ + ρ₀₀   ρ₀₁⋅╲╱ 1 - ε ⎥\n",
       "⎢                            ⎥\n",
       "⎢      _______               ⎥\n",
       "⎣ρ₁₀⋅╲╱ 1 - ε    ρ₁₁⋅(1 - ε) ⎦"
      ]
     },
     "execution_count": 9,
     "metadata": {},
     "output_type": "execute_result"
    }
   ],
   "source": [
    "# quantum circuit, amplitude dampling\n",
    "rho00,rho01,rho10,rho11 = symbols('rho00 rho01 rho10 rho11')\n",
    "epsilon = symbols('epsilon', real=True, positive=True)\n",
    "tmp0 = Matrix([[rho00,rho01],[rho10,rho11]])\n",
    "tmp1 = Matrix([[1,0], [0,sqrt(1-epsilon)]])\n",
    "tmp2 = Matrix([[0,sqrt(epsilon)], [0,0]])\n",
    "tmp1*tmp0*tmp1 + tmp2*tmp0*tmp2.T"
   ]
  },
  {
   "cell_type": "code",
   "execution_count": 10,
   "metadata": {},
   "outputs": [
    {
     "data": {
      "image/png": "[encoded data removed]",
      "text/latex": [
       "$\\displaystyle 233$"
      ],
      "text/plain": [
       "233"
      ]
     },
     "execution_count": 10,
     "metadata": {},
     "output_type": "execute_result"
    }
   ],
   "source": [
    "expr = x**2 + (y**3)*z\n",
    "expr.subs(x, y)\n",
    "expr.subs(x, x**2)\n",
    "expr.subs([(x,2), (y,23), (z,233)])\n",
    "\n",
    "sympy.pi.subs(sympy.pi, 233) #hehe"
   ]
  },
  {
   "cell_type": "code",
   "execution_count": 11,
   "metadata": {},
   "outputs": [
    {
     "data": {
      "image/png": "[encoded data removed]",
      "text/latex": [
       "$\\displaystyle \\left( -4.0 \\cdot 10^{-124}, \\  0\\right)$"
      ],
      "text/plain": [
       "(-0.e-124, 0)"
      ]
     },
     "execution_count": 11,
     "metadata": {},
     "output_type": "execute_result"
    }
   ],
   "source": [
    "sympy.pi.evalf(23)\n",
    "\n",
    "expr = x*y+z\n",
    "expr.evalf(23, subs={x:0.2, y:0.23, z:0.233})\n",
    "\n",
    "expr = cos(1)**2 + sin(1)**2 - 1\n",
    "expr.evalf(), expr.evalf(chop=True)"
   ]
  },
  {
   "cell_type": "markdown",
   "metadata": {},
   "source": [
    "# TODO"
   ]
  },
  {
   "cell_type": "markdown",
   "metadata": {},
   "source": [
    "# derivative"
   ]
  },
  {
   "cell_type": "code",
   "execution_count": 12,
   "metadata": {},
   "outputs": [
    {
     "data": {
      "image/png": "[encoded data removed]",
      "text/latex": [
       "$\\displaystyle \\sum_{k_{1}=0}^{i_{1}} \\frac{i_{1}! \\frac{d^{\\max\\left(0, - k_{1} + i_{1}\\right)}}{d x^{\\max\\left(0, - k_{1} + i_{1}\\right)}} \\sin{\\left(y \\right)} \\frac{d^{k_{1}}}{d x^{k_{1}}} \\cos{\\left(x \\right)}}{k_{1}! \\left(- k_{1} + i_{1}\\right)!}$"
      ],
      "text/plain": [
       "  i₁                                                \n",
       "______                                              \n",
       "╲                                                   \n",
       " ╲                                                  \n",
       "  ╲          Max(0, -_k1 + i1)           _k1        \n",
       "   ╲        d                           d           \n",
       "    ╲  i₁!⋅───────────────────(sin(y))⋅─────(cos(x))\n",
       "    ╱        Max(0, -_k1 + i1)           _k1        \n",
       "   ╱       dx                          dx           \n",
       "  ╱    ─────────────────────────────────────────────\n",
       " ╱                    k₁!⋅(-k₁ + i₁)!               \n",
       "╱                                                   \n",
       "‾‾‾‾‾‾                                              \n",
       "k₁ = 0                                              "
      ]
     },
     "execution_count": 12,
     "metadata": {},
     "output_type": "execute_result"
    }
   ],
   "source": [
    "expr = cos(x)\n",
    "diff(expr, x), diff(expr, x, x), diff(expr, x, x, x)\n",
    "Derivative(expr, x, 1).doit()\n",
    "\n",
    "expr = cos(x) * sin(y)\n",
    "diff(expr, x, y, y), diff(expr, x, 1, y, 2)\n",
    "\n",
    "diff(expr, (x, i1))"
   ]
  },
  {
   "cell_type": "markdown",
   "metadata": {},
   "source": [
    "# integral"
   ]
  },
  {
   "cell_type": "code",
   "execution_count": 13,
   "metadata": {},
   "outputs": [
    {
     "data": {
      "text/latex": [
       "$\\displaystyle \\begin{cases} \\Gamma\\left(i_{1} + 1\\right) & \\text{for}\\: i_{1} > -1 \\\\\\int\\limits_{0}^{\\infty} x^{i_{1}} e^{- x}\\, dx & \\text{otherwise} \\end{cases}$"
      ],
      "text/plain": [
       "⎧ Γ(i₁ + 1)    for i₁ > -1\n",
       "⎪                         \n",
       "⎪∞                        \n",
       "⎪⌠                        \n",
       "⎨⎮  i₁  -x                \n",
       "⎪⎮ x  ⋅ℯ   dx   otherwise \n",
       "⎪⌡                        \n",
       "⎪0                        \n",
       "⎩                         "
      ]
     },
     "execution_count": 13,
     "metadata": {},
     "output_type": "execute_result"
    }
   ],
   "source": [
    "expr = cos(x)\n",
    "integrate(expr, x)\n",
    "Integral(expr, x).doit()\n",
    "\n",
    "integrate(exp(-x), (x,0,sympy.oo))\n",
    "\n",
    "integrate(exp(-x**2-y**2), (x,-sympy.oo,sympy.oo), (y,-sympy.oo,sympy.oo))\n",
    "\n",
    "integrate(x**i1*exp(-x), (x,0,sympy.oo))"
   ]
  },
  {
   "cell_type": "markdown",
   "metadata": {},
   "source": [
    "# limit"
   ]
  },
  {
   "cell_type": "code",
   "execution_count": 14,
   "metadata": {},
   "outputs": [
    {
     "data": {
      "image/png": "[encoded data removed]",
      "text/latex": [
       "$\\displaystyle -1$"
      ],
      "text/plain": [
       "-1"
      ]
     },
     "execution_count": 14,
     "metadata": {},
     "output_type": "execute_result"
    }
   ],
   "source": [
    "expr = sin(x)/x\n",
    "limit(expr, x, 0)\n",
    "Limit(expr, x, 0).doit()\n",
    "\n",
    "expr = sin(x)/sympy.Abs(x)\n",
    "limit(expr, x, 0, dir='+')\n",
    "limit(expr, x, 0, dir='-')"
   ]
  },
  {
   "cell_type": "markdown",
   "metadata": {},
   "source": [
    "# series expansion"
   ]
  },
  {
   "cell_type": "code",
   "execution_count": 15,
   "metadata": {},
   "outputs": [
    {
     "data": {
      "image/png": "[encoded data removed]",
      "text/latex": [
       "$\\displaystyle \\frac{x^{5}}{120} - \\frac{x^{3}}{6} + x$"
      ],
      "text/plain": [
       "  5    3    \n",
       " x    x     \n",
       "─── - ── + x\n",
       "120   6     "
      ]
     },
     "execution_count": 15,
     "metadata": {},
     "output_type": "execute_result"
    }
   ],
   "source": [
    "x*sympy.O(1)\n",
    "x*sympy.O(x)\n",
    "\n",
    "expr = sin(x)\n",
    "series(expr, x, 0, 6)\n",
    "series(expr, x, 0, 6).removeO()"
   ]
  },
  {
   "cell_type": "markdown",
   "metadata": {},
   "source": [
    "## printer"
   ]
  },
  {
   "cell_type": "code",
   "execution_count": 16,
   "metadata": {},
   "outputs": [
    {
     "data": {
      "image/png": "[encoded data removed]",
      "text/latex": [
       "$\\displaystyle \\int \\sqrt{\\frac{1}{x}}\\, dx$"
      ],
      "text/plain": [
       "⌠           \n",
       "⎮     ___   \n",
       "⎮    ╱ 1    \n",
       "⎮   ╱  ─  dx\n",
       "⎮ ╲╱   x    \n",
       "⌡           "
      ]
     },
     "execution_count": 16,
     "metadata": {},
     "output_type": "execute_result"
    }
   ],
   "source": [
    "expr = Integral(sqrt(1/x), x)\n",
    "expr"
   ]
  },
  {
   "cell_type": "code",
   "execution_count": 17,
   "metadata": {},
   "outputs": [
    {
     "name": "stdout",
     "output_type": "stream",
     "text": [
      "Integral(sqrt(1/x), x)\n"
     ]
    }
   ],
   "source": [
    "print(expr)"
   ]
  },
  {
   "cell_type": "code",
   "execution_count": 18,
   "metadata": {},
   "outputs": [
    {
     "data": {
      "text/plain": [
       "\"Integral(Pow(Pow(Symbol('x'), Integer(-1)), Rational(1, 2)), Tuple(Symbol('x')))\""
      ]
     },
     "execution_count": 18,
     "metadata": {},
     "output_type": "execute_result"
    }
   ],
   "source": [
    "srepr(expr)"
   ]
  },
  {
   "cell_type": "code",
   "execution_count": 19,
   "metadata": {},
   "outputs": [
    {
     "name": "stdout",
     "output_type": "stream",
     "text": [
      "  /          \n",
      " |           \n",
      " |     ___   \n",
      " |    / 1    \n",
      " |   /  -  dx\n",
      " | \\/   x    \n",
      " |           \n",
      "/            \n",
      "  /          \n",
      " |           \n",
      " |     ___   \n",
      " |    / 1    \n",
      " |   /  -  dx\n",
      " | \\/   x    \n",
      " |           \n",
      "/            \n"
     ]
    }
   ],
   "source": [
    "pprint(expr, use_unicode=False)\n",
    "print(pretty(expr, use_unicode=False))"
   ]
  },
  {
   "cell_type": "code",
   "execution_count": 20,
   "metadata": {},
   "outputs": [
    {
     "name": "stdout",
     "output_type": "stream",
     "text": [
      "\\int \\sqrt{\\frac{1}{x}}\\, dx\n"
     ]
    }
   ],
   "source": [
    "print(latex(expr))"
   ]
  },
  {
   "cell_type": "markdown",
   "metadata": {},
   "source": [
    "## simplification"
   ]
  },
  {
   "cell_type": "code",
   "execution_count": 21,
   "metadata": {},
   "outputs": [
    {
     "data": {
      "image/png": "[encoded data removed]",
      "text/latex": [
       "$\\displaystyle \\left( 1, \\  x - 1, \\  \\left(x - 2\\right) \\left(x - 1\\right)\\right)$"
      ],
      "text/plain": [
       "(1, x - 1, (x - 2)⋅(x - 1))"
      ]
     },
     "execution_count": 21,
     "metadata": {},
     "output_type": "execute_result"
    }
   ],
   "source": [
    "simplify(sin(x)**2 + cos(x)**2),  simplify((x**3+x**2-x-1)/(x**2+2*x+1)),  simplify(gamma(x)/gamma(x-2))"
   ]
  },
  {
   "cell_type": "code",
   "execution_count": 22,
   "metadata": {},
   "outputs": [
    {
     "data": {
      "image/png": "[encoded data removed]",
      "text/latex": [
       "$\\displaystyle \\left( \\left(x + 1\\right)^{2}, \\  x^{2} + 2 x + 1\\right)$"
      ],
      "text/plain": [
       "⎛       2   2          ⎞\n",
       "⎝(x + 1) , x  + 2⋅x + 1⎠"
      ]
     },
     "execution_count": 22,
     "metadata": {},
     "output_type": "execute_result"
    }
   ],
   "source": [
    "expr = x**2 + 2*x + 1\n",
    "factor(expr), simplify(expr)"
   ]
  },
  {
   "cell_type": "code",
   "execution_count": 23,
   "metadata": {},
   "outputs": [
    {
     "data": {
      "image/png": "[encoded data removed]",
      "text/latex": [
       "$\\displaystyle z \\left(x + 2 y\\right)^{2}$"
      ],
      "text/plain": [
       "           2\n",
       "z⋅(x + 2⋅y) "
      ]
     },
     "execution_count": 23,
     "metadata": {},
     "output_type": "execute_result"
    }
   ],
   "source": [
    "factor(x**2*z + 4*x*y*z + 4*y**2*z)"
   ]
  },
  {
   "cell_type": "code",
   "execution_count": 24,
   "metadata": {},
   "outputs": [
    {
     "data": {
      "image/png": "[encoded data removed]",
      "text/latex": [
       "$\\displaystyle \\left(\\sin{\\left(x \\right)} + \\cos{\\left(x \\right)}\\right)^{2}$"
      ],
      "text/plain": [
       "                 2\n",
       "(sin(x) + cos(x)) "
      ]
     },
     "execution_count": 24,
     "metadata": {},
     "output_type": "execute_result"
    }
   ],
   "source": [
    "factor(expand((cos(x)+sin(x))**2))"
   ]
  },
  {
   "cell_type": "code",
   "execution_count": 25,
   "metadata": {},
   "outputs": [
    {
     "data": {
      "image/png": "[encoded data removed]",
      "text/latex": [
       "$\\displaystyle 2 x y$"
      ],
      "text/plain": [
       "2⋅x⋅y"
      ]
     },
     "execution_count": 25,
     "metadata": {},
     "output_type": "execute_result"
    }
   ],
   "source": [
    "expand(x*(x+2*y) - x**2)"
   ]
  },
  {
   "cell_type": "code",
   "execution_count": 26,
   "metadata": {},
   "outputs": [
    {
     "data": {
      "image/png": "[encoded data removed]",
      "text/latex": [
       "$\\displaystyle \\left( x^{3} + x^{2} \\left(2 - z\\right) + x \\left(y + 1\\right) - 3, \\  2 - z\\right)$"
      ],
      "text/plain": [
       "⎛ 3    2                               ⎞\n",
       "⎝x  + x ⋅(2 - z) + x⋅(y + 1) - 3, 2 - z⎠"
      ]
     },
     "execution_count": 26,
     "metadata": {},
     "output_type": "execute_result"
    }
   ],
   "source": [
    "expr = x*y + x - 3 + 2*x**2 - z*x**2 + x**3\n",
    "collect(expr, x), collect(expr, x).coeff(x,2)"
   ]
  },
  {
   "cell_type": "code",
   "execution_count": 27,
   "metadata": {},
   "outputs": [
    {
     "data": {
      "image/png": "[encoded data removed]",
      "text/latex": [
       "$\\displaystyle \\left( \\frac{x^{2} + 2 x + 1}{x^{2} + x}, \\  \\frac{x + 1}{x}\\right)$"
      ],
      "text/plain": [
       "⎛ 2                 ⎞\n",
       "⎜x  + 2⋅x + 1  x + 1⎟\n",
       "⎜────────────, ─────⎟\n",
       "⎜    2           x  ⎟\n",
       "⎝   x  + x          ⎠"
      ]
     },
     "execution_count": 27,
     "metadata": {},
     "output_type": "execute_result"
    }
   ],
   "source": [
    "expr = (x**2 + 2*x + 1)/(x**2 + x)\n",
    "expr, cancel(expr)"
   ]
  },
  {
   "cell_type": "code",
   "execution_count": 28,
   "metadata": {},
   "outputs": [
    {
     "data": {
      "image/png": "[encoded data removed]",
      "text/latex": [
       "$\\displaystyle \\left( \\frac{\\frac{3 x}{2} - 2}{x - 4} + \\frac{1}{x}, \\  \\frac{3 x^{2} - 2 x - 8}{2 x^{2} - 8 x}\\right)$"
      ],
      "text/plain": [
       "⎛3⋅x                        ⎞\n",
       "⎜─── - 2         2          ⎟\n",
       "⎜ 2        1  3⋅x  - 2⋅x - 8⎟\n",
       "⎜─────── + ─, ──────────────⎟\n",
       "⎜ x - 4    x       2        ⎟\n",
       "⎝               2⋅x  - 8⋅x  ⎠"
      ]
     },
     "execution_count": 28,
     "metadata": {},
     "output_type": "execute_result"
    }
   ],
   "source": [
    "expr = 1/x + (3*x/2-2)/(x-4)\n",
    "expr, cancel(expr)"
   ]
  },
  {
   "cell_type": "code",
   "execution_count": 29,
   "metadata": {},
   "outputs": [
    {
     "data": {
      "image/png": "[encoded data removed]",
      "text/latex": [
       "$\\displaystyle \\left( \\frac{x y^{2} - 2 x y z + x z^{2} + y^{2} - 2 y z + z^{2}}{x^{2} - 1}, \\  \\frac{y^{2} - 2 y z + z^{2}}{x - 1}, \\  \\frac{\\left(y - z\\right)^{2}}{x - 1}\\right)$"
      ],
      "text/plain": [
       "⎛   2                2    2            2   2            2         2⎞\n",
       "⎜x⋅y  - 2⋅x⋅y⋅z + x⋅z  + y  - 2⋅y⋅z + z   y  - 2⋅y⋅z + z   (y - z) ⎟\n",
       "⎜───────────────────────────────────────, ───────────────, ────────⎟\n",
       "⎜                  2                           x - 1        x - 1  ⎟\n",
       "⎝                 x  - 1                                           ⎠"
      ]
     },
     "execution_count": 29,
     "metadata": {},
     "output_type": "execute_result"
    }
   ],
   "source": [
    "expr = (x*y**2 - 2*x*y*z + x*z**2 + y**2 - 2*y*z + z**2)/(x**2 - 1)\n",
    "expr, cancel(expr), factor(expr)"
   ]
  },
  {
   "cell_type": "code",
   "execution_count": 30,
   "metadata": {},
   "outputs": [
    {
     "data": {
      "image/png": "[encoded data removed]",
      "text/latex": [
       "$\\displaystyle \\left( \\frac{4 x^{3} + 21 x^{2} + 10 x + 12}{x^{4} + 5 x^{3} + 5 x^{2} + 4 x}, \\  \\frac{2 x - 1}{x^{2} + x + 1} - \\frac{1}{x + 4} + \\frac{3}{x}\\right)$"
      ],
      "text/plain": [
       "⎛   3       2                                    ⎞\n",
       "⎜4⋅x  + 21⋅x  + 10⋅x + 12   2⋅x - 1       1     3⎟\n",
       "⎜────────────────────────, ────────── - ───── + ─⎟\n",
       "⎜  4      3      2          2           x + 4   x⎟\n",
       "⎝ x  + 5⋅x  + 5⋅x  + 4⋅x   x  + x + 1            ⎠"
      ]
     },
     "execution_count": 30,
     "metadata": {},
     "output_type": "execute_result"
    }
   ],
   "source": [
    "expr = (4*x**3 + 21*x**2 + 10*x + 12)/(x**4 + 5*x**3 + 5*x**2 + 4*x)\n",
    "expr, apart(expr)"
   ]
  },
  {
   "cell_type": "code",
   "execution_count": 31,
   "metadata": {},
   "outputs": [
    {
     "data": {
      "image/png": "[encoded data removed]",
      "text/latex": [
       "$\\displaystyle \\left( 1, \\  \\frac{\\cos{\\left(4 x \\right)}}{2} + \\frac{1}{2}, \\  \\sin^{2}{\\left(x \\right)}, \\  \\cosh{\\left(2 x \\right)}, \\  \\cosh{\\left(x \\right)}\\right)$"
      ],
      "text/plain": [
       "⎛   cos(4⋅x)   1     2                       ⎞\n",
       "⎜1, ──────── + ─, sin (x), cosh(2⋅x), cosh(x)⎟\n",
       "⎝      2       2                             ⎠"
      ]
     },
     "execution_count": 31,
     "metadata": {},
     "output_type": "execute_result"
    }
   ],
   "source": [
    "expr1 = sin(x)**2 + cos(x)**2\n",
    "expr2 = sin(x)**4 - 2*cos(x)**2*sin(x)**2 + cos(x)**4\n",
    "expr3 = sin(x)*tan(x)/sec(x)\n",
    "expr4 = cosh(x)**2 + sinh(x)**2\n",
    "expr5 = sinh(x)/tanh(x)\n",
    "trigsimp(expr1), trigsimp(expr2), trigsimp(expr3), trigsimp(expr4), trigsimp(expr5)"
   ]
  },
  {
   "cell_type": "code",
   "execution_count": 32,
   "metadata": {},
   "outputs": [
    {
     "data": {
      "image/png": "[encoded data removed]",
      "text/latex": [
       "$\\displaystyle \\left( 2 \\sin{\\left(x \\right)} \\cos{\\left(x \\right)} + 2 \\cos^{2}{\\left(x \\right)} - 1, \\  2 \\sin{\\left(x \\right)} \\cos{\\left(x \\right)} + \\cos{\\left(2 x \\right)}\\right)$"
      ],
      "text/plain": [
       "⎛                       2                                   ⎞\n",
       "⎝2⋅sin(x)⋅cos(x) + 2⋅cos (x) - 1, 2⋅sin(x)⋅cos(x) + cos(2⋅x)⎠"
      ]
     },
     "execution_count": 32,
     "metadata": {},
     "output_type": "execute_result"
    }
   ],
   "source": [
    "expr = sin(2*x) + cos(2*x)\n",
    "expand_trig(expr), expr.subs(sin(2*x), 2*sin(x)*cos(x))"
   ]
  },
  {
   "cell_type": "code",
   "execution_count": 33,
   "metadata": {},
   "outputs": [
    {
     "data": {
      "image/png": "[encoded data removed]",
      "text/latex": [
       "$\\displaystyle \\sin{\\left(x \\right)} \\cos{\\left(y \\right)} + \\sin{\\left(y \\right)} \\cos{\\left(x \\right)}$"
      ],
      "text/plain": [
       "sin(x)⋅cos(y) + sin(y)⋅cos(x)"
      ]
     },
     "execution_count": 33,
     "metadata": {},
     "output_type": "execute_result"
    }
   ],
   "source": [
    "expand_trig(sin(x+y))"
   ]
  },
  {
   "cell_type": "code",
   "execution_count": 34,
   "metadata": {},
   "outputs": [
    {
     "data": {
      "image/png": "[encoded data removed]",
      "text/latex": [
       "$\\displaystyle \\tan{\\left(2 x \\right)}$"
      ],
      "text/plain": [
       "tan(2⋅x)"
      ]
     },
     "execution_count": 34,
     "metadata": {},
     "output_type": "execute_result"
    }
   ],
   "source": [
    "trigsimp(expand_trig(tan(2*x)))"
   ]
  },
  {
   "cell_type": "code",
   "execution_count": 35,
   "metadata": {},
   "outputs": [
    {
     "data": {
      "image/png": "[encoded data removed]",
      "text/latex": [
       "$\\displaystyle \\left( \\frac{2 \\sin^{2}{\\left(x \\right)}}{\\sin{\\left(2 x \\right)}}, \\  \\Gamma\\left(x + 1\\right)\\right)$"
      ],
      "text/plain": [
       "⎛     2             ⎞\n",
       "⎜2⋅sin (x)          ⎟\n",
       "⎜─────────, Γ(x + 1)⎟\n",
       "⎝ sin(2⋅x)          ⎠"
      ]
     },
     "execution_count": 35,
     "metadata": {},
     "output_type": "execute_result"
    }
   ],
   "source": [
    "tan(x).rewrite(sin), factorial(x).rewrite(gamma)"
   ]
  },
  {
   "cell_type": "markdown",
   "metadata": {},
   "source": [
    "## Powers"
   ]
  },
  {
   "cell_type": "code",
   "execution_count": 36,
   "metadata": {},
   "outputs": [
    {
     "data": {
      "text/plain": [
       "True"
      ]
     },
     "execution_count": 36,
     "metadata": {},
     "output_type": "execute_result"
    }
   ],
   "source": [
    "sqrt(x)==x**Rational(1,2)"
   ]
  },
  {
   "cell_type": "code",
   "execution_count": 37,
   "metadata": {},
   "outputs": [
    {
     "data": {
      "image/png": "[encoded data removed]",
      "text/latex": [
       "$\\displaystyle \\left( 0, \\  x^{a} y^{a} - \\left(x y\\right)^{a}, \\  - x^{a b} + \\left(x^{a}\\right)^{b}\\right)$"
      ],
      "text/plain": [
       "⎛                                b⎞\n",
       "⎜    a  a        a     a⋅b   ⎛ a⎞ ⎟\n",
       "⎝0, x ⋅y  - (x⋅y) , - x    + ⎝x ⎠ ⎠"
      ]
     },
     "execution_count": 37,
     "metadata": {},
     "output_type": "execute_result"
    }
   ],
   "source": [
    "expr1 = x**a*x**b - x**(a+b)\n",
    "expr2 = x**a*y**a - (x*y)**a\n",
    "expr3 = (x**a)**b - x**(a*b)\n",
    "powsimp(expr1), powsimp(expr2), powsimp(expr3)"
   ]
  },
  {
   "cell_type": "code",
   "execution_count": 38,
   "metadata": {},
   "outputs": [
    {
     "data": {
      "image/png": "[encoded data removed]",
      "text/latex": [
       "$\\displaystyle \\left( x^{a} y^{a}, \\  \\left(x y\\right)^{a}, \\  \\left(p_{1} p_{2}\\right)^{r_{1}}\\right)$"
      ],
      "text/plain": [
       "⎛ a  a       a         r₁⎞\n",
       "⎝x ⋅y , (x⋅y) , (p₁⋅p₂)  ⎠"
      ]
     },
     "execution_count": 38,
     "metadata": {},
     "output_type": "execute_result"
    }
   ],
   "source": [
    "expr1 = x**a*y**a\n",
    "expr2 = p1**r1*p2**r1\n",
    "powsimp(expr1), powsimp(expr1,force=True), powsimp(expr2)"
   ]
  },
  {
   "cell_type": "code",
   "execution_count": 39,
   "metadata": {},
   "outputs": [
    {
     "data": {
      "image/png": "[encoded data removed]",
      "text/latex": [
       "$\\displaystyle \\left( \\left(x^{a}\\right)^{b}, \\  \\left(x^{a}\\right)^{b}, \\  x^{a i_{1}}, \\  \\left(x^{a}\\right)^{b}, \\  x^{a b}, \\  x^{a i_{1}}\\right)$"
      ],
      "text/plain": [
       "⎛    b      b             b             ⎞\n",
       "⎜⎛ a⎞   ⎛ a⎞    a⋅i₁  ⎛ a⎞    a⋅b   a⋅i₁⎟\n",
       "⎝⎝x ⎠ , ⎝x ⎠ , x    , ⎝x ⎠ , x   , x    ⎠"
      ]
     },
     "execution_count": 39,
     "metadata": {},
     "output_type": "execute_result"
    }
   ],
   "source": [
    "expr1 = (x**a)**b\n",
    "expr2 = (x**a)**i1\n",
    "(\n",
    "    powsimp(expr1), powsimp(expr1,force=True), powsimp(expr2),\n",
    "    powdenest(expr1), powdenest(expr1, force=True), powdenest(expr2),\n",
    ")"
   ]
  },
  {
   "cell_type": "code",
   "execution_count": 40,
   "metadata": {},
   "outputs": [
    {
     "data": {
      "image/png": "[encoded data removed]",
      "text/latex": [
       "$\\displaystyle x^{a} x^{b}$"
      ],
      "text/plain": [
       " a  b\n",
       "x ⋅x "
      ]
     },
     "execution_count": 40,
     "metadata": {},
     "output_type": "execute_result"
    }
   ],
   "source": [
    "expand_power_exp(x**(a+b))"
   ]
  },
  {
   "cell_type": "code",
   "execution_count": 41,
   "metadata": {},
   "outputs": [
    {
     "data": {
      "image/png": "[encoded data removed]",
      "text/latex": [
       "$\\displaystyle \\left( \\left(x y\\right)^{a}, \\  x^{a} y^{a}, \\  p_{1}^{r_{1}} p_{2}^{r_{1}}\\right)$"
      ],
      "text/plain": [
       "⎛     a   a  a    r₁   r₁⎞\n",
       "⎝(x⋅y) , x ⋅y , p₁  ⋅p₂  ⎠"
      ]
     },
     "execution_count": 41,
     "metadata": {},
     "output_type": "execute_result"
    }
   ],
   "source": [
    "expr1 = (x*y)**a\n",
    "expr2 = (p1*p2)**r1\n",
    "expand_power_base(expr1), expand_power_base(expr1, force=True), expand_power_base(expr2)"
   ]
  },
  {
   "cell_type": "markdown",
   "metadata": {},
   "source": [
    "## Exponentials and logarithms"
   ]
  },
  {
   "cell_type": "code",
   "execution_count": 42,
   "metadata": {},
   "outputs": [
    {
     "data": {
      "image/png": "[encoded data removed]",
      "text/latex": [
       "$\\displaystyle \\left( \\log{\\left(x y \\right)}, \\  \\log{\\left(x \\right)} + \\log{\\left(y \\right)}, \\  \\log{\\left(p_{1} \\right)} + \\log{\\left(p_{2} \\right)}, \\  \\log{\\left(p_{1} p_{2} \\right)}\\right)$"
      ],
      "text/plain": [
       "(log(x⋅y), log(x) + log(y), log(p₁) + log(p₂), log(p₁⋅p₂))"
      ]
     },
     "execution_count": 42,
     "metadata": {},
     "output_type": "execute_result"
    }
   ],
   "source": [
    "expr1 = log(x*y)\n",
    "expr2 = log(x) + log(y)\n",
    "expr3 = log(p1*p2)\n",
    "expr4 = log(p1) + log(p2)\n",
    "expand_log(expr1), logcombine(expr2), expand_log(expr3), logcombine(expr4)"
   ]
  },
  {
   "cell_type": "code",
   "execution_count": 43,
   "metadata": {},
   "outputs": [
    {
     "data": {
      "image/png": "[encoded data removed]",
      "text/latex": [
       "$\\displaystyle \\left( \\log{\\left(x^{y} \\right)}, \\  y \\log{\\left(x \\right)}, \\  r_{1} \\log{\\left(p_{1} \\right)}, \\  \\log{\\left(p_{1}^{r_{1}} \\right)}\\right)$"
      ],
      "text/plain": [
       "⎛   ⎛ y⎞                           ⎛  r₁⎞⎞\n",
       "⎝log⎝x ⎠, y⋅log(x), r₁⋅log(p₁), log⎝p₁  ⎠⎠"
      ]
     },
     "execution_count": 43,
     "metadata": {},
     "output_type": "execute_result"
    }
   ],
   "source": [
    "expr1 = log(x**y)\n",
    "expr2 = y*log(x)\n",
    "expr3 = log(p1**r1)\n",
    "expr4 = r1*log(p1)\n",
    "expand_log(expr1), logcombine(expr2), expand_log(expr3), logcombine(expr4)"
   ]
  },
  {
   "cell_type": "markdown",
   "metadata": {},
   "source": [
    "## Special Functions"
   ]
  },
  {
   "cell_type": "code",
   "execution_count": 44,
   "metadata": {},
   "outputs": [
    {
     "data": {
      "image/png": "[encoded data removed]",
      "text/latex": [
       "$\\displaystyle \\left( a!, \\  i_{1}!, \\  24\\right)$"
      ],
      "text/plain": [
       "(a!, i₁!, 24)"
      ]
     },
     "execution_count": 44,
     "metadata": {},
     "output_type": "execute_result"
    }
   ],
   "source": [
    "factorial(a), factorial(i1), factorial(4)"
   ]
  },
  {
   "cell_type": "code",
   "execution_count": 45,
   "metadata": {},
   "outputs": [
    {
     "data": {
      "image/png": "[encoded data removed]",
      "text/latex": [
       "$\\displaystyle \\left( {\\binom{a}{b}}, \\  10\\right)$"
      ],
      "text/plain": [
       "⎛⎛a⎞    ⎞\n",
       "⎜⎜ ⎟, 10⎟\n",
       "⎝⎝b⎠    ⎠"
      ]
     },
     "execution_count": 45,
     "metadata": {},
     "output_type": "execute_result"
    }
   ],
   "source": [
    "binomial(a, b), binomial(5, 3)"
   ]
  },
  {
   "cell_type": "code",
   "execution_count": 46,
   "metadata": {},
   "outputs": [
    {
     "data": {
      "image/png": "[encoded data removed]",
      "text/latex": [
       "$\\displaystyle \\left( \\Gamma\\left(x\\right), \\  \\Gamma\\left(i_{1}\\right)\\right)$"
      ],
      "text/plain": [
       "(Γ(x), Γ(i₁))"
      ]
     },
     "execution_count": 46,
     "metadata": {},
     "output_type": "execute_result"
    }
   ],
   "source": [
    "gamma(x), gamma(i1)"
   ]
  },
  {
   "cell_type": "code",
   "execution_count": 47,
   "metadata": {},
   "outputs": [
    {
     "data": {
      "image/png": "[encoded data removed]",
      "text/latex": [
       "$\\displaystyle x \\left(x + 1\\right) \\left(x + 2\\right) \\Gamma\\left(x\\right)$"
      ],
      "text/plain": [
       "x⋅(x + 1)⋅(x + 2)⋅Γ(x)"
      ]
     },
     "execution_count": 47,
     "metadata": {},
     "output_type": "execute_result"
    }
   ],
   "source": [
    "expand_func(gamma(x + 3))"
   ]
  },
  {
   "cell_type": "markdown",
   "metadata": {},
   "source": [
    "## eval-based function (forbidden)"
   ]
  },
  {
   "cell_type": "code",
   "execution_count": 48,
   "metadata": {},
   "outputs": [],
   "source": [
    "# sympy.sympify\n",
    "# sympy.lambdify"
   ]
  },
  {
   "cell_type": "code",
   "execution_count": null,
   "metadata": {},
   "outputs": [],
   "source": []
  }
 ],
 "metadata": {
  "kernelspec": {
   "display_name": "Python 3",
   "language": "python",
   "name": "python3"
  },
  "language_info": {
   "codemirror_mode": {
    "name": "ipython",
    "version": 3
   },
   "file_extension": ".py",
   "mimetype": "text/x-python",
   "name": "python",
   "nbconvert_exporter": "python",
   "pygments_lexer": "ipython3",
   "version": "3.7.6"
  }
 },
 "nbformat": 4,
 "nbformat_minor": 4
}
