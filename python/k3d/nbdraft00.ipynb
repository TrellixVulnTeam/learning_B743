{
 "cells": [
  {
   "cell_type": "code",
   "execution_count": 1,
   "metadata": {},
   "outputs": [],
   "source": [
    "import numpy as np\n",
    "import matplotlib\n",
    "import matplotlib.pyplot as plt\n",
    "import k3d"
   ]
  },
  {
   "cell_type": "code",
   "execution_count": 2,
   "metadata": {},
   "outputs": [],
   "source": [
    "def k3d_surface(z, xmin=0, xmax=1, ymin=0, ymax=1, colormap_name='cool'):\n",
    "    z = z.astype(np.float32)\n",
    "    colormap = getattr(matplotlib.cm, colormap_name)\n",
    "    tmp0 = [colormap(x) for x in range(colormap.N)]\n",
    "    tmp1 = np.linspace(0, 1, num=len(tmp0), endpoint=True)\n",
    "    k3d_colormap = [float(z) for x,y in zip(tmp1,tmp0) for z in (x,y[0],y[1],y[2])]\n",
    "    hsurf = k3d.surface(z, xmin=xmin, xmax=xmax, ymin=ymin, ymax=ymax,\n",
    "                attribute=z, color_map=k3d_colormap, flat_shading=False)\n",
    "    return hsurf"
   ]
  },
  {
   "cell_type": "code",
   "execution_count": 3,
   "metadata": {},
   "outputs": [
    {
     "data": {
      "application/vnd.jupyter.widget-view+json": {
       "model_id": "672afedaa9f84d24b8ca11ba8c2176e3",
       "version_major": 2,
       "version_minor": 0
      },
      "text/plain": [
       "Output()"
      ]
     },
     "metadata": {},
     "output_type": "display_data"
    }
   ],
   "source": [
    "xmin, xmax, ymin, ymax = -3, 3, 0, 3\n",
    "x = np.linspace(xmin, xmax, 50)\n",
    "y = np.linspace(ymin, ymax, 60)\n",
    "f = np.sin(x**2 + y[:,np.newaxis]**2)\n",
    "plot = k3d.plot()\n",
    "plot += k3d_surface(f, xmin=x.min(), xmax=x.max(), ymin=y.min(), ymax=y.max())\n",
    "plot.display()"
   ]
  },
  {
   "cell_type": "code",
   "execution_count": 4,
   "metadata": {},
   "outputs": [
    {
     "data": {
      "application/vnd.jupyter.widget-view+json": {
       "model_id": "d482b7f32b8a499ca057d30bf43896d1",
       "version_major": 2,
       "version_minor": 0
      },
      "text/plain": [
       "Output()"
      ]
     },
     "metadata": {},
     "output_type": "display_data"
    },
    {
     "data": {
      "application/vnd.jupyter.widget-view+json": {
       "model_id": "37754d36738846a988a7f5aa79d9523d",
       "version_major": 2,
       "version_minor": 0
      },
      "text/plain": [
       "Output()"
      ]
     },
     "metadata": {},
     "output_type": "display_data"
    }
   ],
   "source": [
    "x = np.linspace(-5, 5)\n",
    "y = np.linspace(-5, 5)\n",
    "z0 = np.sin(np.sqrt(x**2 + y[:,np.newaxis]**2))\n",
    "z1 = np.cos(np.sqrt(x**2 + y[:,np.newaxis]**2))\n",
    "\n",
    "plot = k3d.plot()\n",
    "plot += k3d_surface(z0, xmin=x.min(), xmax=x.max(), ymin=y.min(), ymax=y.max())\n",
    "plot.display()\n",
    "\n",
    "plot = k3d.plot()\n",
    "plot += k3d_surface(z1, xmin=x.min(), xmax=x.max(), ymin=y.min(), ymax=y.max())\n",
    "plot.display()"
   ]
  },
  {
   "cell_type": "code",
   "execution_count": null,
   "metadata": {},
   "outputs": [],
   "source": []
  }
 ],
 "metadata": {
  "kernelspec": {
   "display_name": "Python 3",
   "language": "python",
   "name": "python3"
  },
  "language_info": {
   "codemirror_mode": {
    "name": "ipython",
    "version": 3
   },
   "file_extension": ".py",
   "mimetype": "text/x-python",
   "name": "python",
   "nbconvert_exporter": "python",
   "pygments_lexer": "ipython3",
   "version": "3.8.10"
  }
 },
 "nbformat": 4,
 "nbformat_minor": 5
}